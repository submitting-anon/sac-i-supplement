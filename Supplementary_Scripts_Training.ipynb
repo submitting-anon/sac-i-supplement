{
 "cells": [
  {
   "cell_type": "markdown",
   "metadata": {},
   "source": [
    "# Scripts for Training"
   ]
  },
  {
   "cell_type": "markdown",
   "metadata": {},
   "source": [
    "In this notebook, we show the main scripts used to train agents employed in the experiments.\n",
    "- Use the flag `-t` to set a tag for the trained model. Default is 'no_tag'. For the LunarLander task, two special key words, `plus4` and `shapedVVHA`, should be used to properly use the `eval_lunarT.py` script, as observed ahead. \n",
    "- Use the flag `--seed` to set a seed for the experiment. Otherwise, it will default to '7'.\n",
    "- If model weights folder is not empty, the script will not override and an error will be returned. Remove the folder before."
   ]
  },
  {
   "cell_type": "markdown",
   "metadata": {},
   "source": [
    "## 1. LunarLander with Bomb"
   ]
  },
  {
   "cell_type": "markdown",
   "metadata": {},
   "source": [
    "**a) Train the baseline agent (original environment without bomb)**\n",
    "- Four dummy states are included in order to be able to retrain in the environment wiht bomb:\n",
    "\n",
    "`python3 train1_lunarT_SAC_baseline_4a.py -t mytag_plus4`\n",
    "\n",
    "**Obs**: you should include `plus4` in the run tag `-t` to indicate that four dummy states are added, and properly evaluate the model with `eval_lunarT.py`. \n",
    "\n",
    "**b) Retrain the SAC agent in the environment with bomb**\n",
    "\n",
    "- No shaping (default):\n",
    "\n",
    "`python3 train2_lunarTB_SAC_4c_4d.py -t mytag`\n",
    "\n",
    "- Circle shaping:\n",
    "\n",
    "`python3 train2_lunarTB_SAC_4c_4d.py -t mytag --shaping circle`\n",
    "\n",
    "- Conservative shaping:\n",
    "\n",
    "`python3 train2_lunarTB_SAC_4c_4d.py -t mytag --shaping VVHA`\n",
    "\n",
    "\n",
    "**c) Retrain the SAC-I agent in the environment with bomb**\n",
    "\n",
    "- No shaping + inhibitory policy network (selector):\n",
    "\n",
    "`python3 train4s_lunarTB_SACI_selector.py -t mytag`\n",
    "\n",
    "- Circle shaping:\n",
    "\n",
    "`python3 train3_lunarTB_SACI_shapedC_5bcd.py -t mytag`\n",
    "\n",
    "- Conservative shaping (VVHA):\n",
    "\n",
    "`python3 train4_lunarTB_SACI_shapedVVHA_5e.py -t mytag_shapedVVHA`\n",
    "\n",
    "**Obs**: you should include `shapedVVHA` in the run tag `-t` to properly evaluate the model with `eval_lunarT.py`. This is because in the SAC-I agent with VVHA shaping, state is only updated in the inhibitory states.\n",
    "\n",
    "**d) Training SAC and SAC-I agents with different bomb frequencies (conflict levels)**\n",
    "- Use the flag `--stopPct` to specify the stop frequency:\n",
    "\n",
    "`python3 train2_lunarTB_SAC_4c_4d.py -t mytag --shaping VVHA --stopPct 0.75`\n",
    "\n",
    "`python3 train4_lunarTB_SACI_shapedVVHA_5e.py -t mytag_shapedVVHA --stopPct 0.75`\n"
   ]
  },
  {
   "cell_type": "markdown",
   "metadata": {},
   "source": [
    "## 2. Mixed version of BipedalWalkerHardcore-v3"
   ]
  },
  {
   "cell_type": "markdown",
   "metadata": {},
   "source": [
    "**a) Retrain SAC agent from baseline**\n",
    "\n",
    "- Train the agent in the original BipedalWalkerHardcore-v3\n",
    "\n",
    "`python3 train5_bipedaMix_SAC_shapedR_3a.py -t mytag --stop_pct 1.0`\n",
    "\n",
    "- Train the agent in a mixed version of BipedalWalkerHardcore-v3 with 90% hardcore\n",
    "\n",
    "`python3 train5_bipedaMix_SAC_shapedR_3a.py -t mytag --stop_pct 0.9`\n",
    "\n",
    "**b) Train SAC agent from scratch**\n",
    "\n",
    "- Train the agent in a mixed version of BipedalWalkerHardcore-v3 with 90% hardcore\n",
    "\n",
    "`python3 train5_bipedaMix_SAC_shapedR_3a.py -t mytag --stop_pct 0.9 --from_scratch`\n",
    "\n",
    "**c) Retrain SAC-I agent from baseline**\n",
    "\n",
    "- Train the agent in a mixed version of BipedalWalkerHardcore-v3 with 90% hardcore\n",
    "\n",
    "`python3 train6_bipedalMix_SACI_shapedR.py -t mytag --stop_pct 0.9 --no_bonus`\n",
    "\n",
    "**d) Retrain SAC-I agent from baseline + Inhibitory policy network (adaptive)**\n",
    "\n",
    "- Train the agent in the original BipedalWalkerHardcore-v3\n",
    "\n",
    "`python3 train7_bipedalMix_SACI_adaptive.py -t mytag --stop_pct 1.0 --no_bonus`\n",
    "\n",
    "- Train the agent in a mixed version of BipedalWalkerHardcore-v3 with 90% hardcore\n",
    "\n",
    "`python3 train7_bipedalMix_SACI_adaptive.py -t mytag --stop_pct 0.9 --no_bonus`\n"
   ]
  },
  {
   "cell_type": "markdown",
   "metadata": {},
   "source": [
    "### (EXTRA)\n",
    "\n",
    "**Train SAC-I with additional 'bonus' shaping rewarding getting out of stuck position. The SAC-I agent benefits from this extra shaping, but not SAC. The SAC learns to get rewards from stuck positions. Check the Evaluation script to look at this SAC agent.**\n",
    "\n",
    "\n",
    "**c) Retrain SAC-I agent from baseline (include bonus reward by default)**\n",
    "\n",
    "- Train the agent in the original BipedalWalkerHardcore-v3\n",
    "\n",
    "`python3 train6_bipedalMix_SACI_shapedR.py -t mytag --stop_pct 1.0`\n",
    "\n",
    "- Train the agent in a mixed version of BipedalWalkerHardcore-v3 with 90% hardcore\n",
    "\n",
    "`python3 train6_bipedalMix_SACI_shapedR.py -t mytag --stop_pct 0.9`\n",
    "\n",
    "\n",
    "**e) Train SAC-I agent from scratch (include bonus reward by default)**\n",
    "\n",
    "- Train the agent in a mixed version of BipedalWalkerHardcore-v3 with 90% hardcore\n",
    "\n",
    "`python3 train6_bipedalMix_SACI_shapedR.py -t mytag --stop_pct 0.9 --from_scratch`"
   ]
  },
  {
   "cell_type": "code",
   "execution_count": null,
   "metadata": {},
   "outputs": [],
   "source": []
  }
 ],
 "metadata": {
  "kernelspec": {
   "display_name": "Python 3",
   "language": "python",
   "name": "python3"
  },
  "language_info": {
   "codemirror_mode": {
    "name": "ipython",
    "version": 3
   },
   "file_extension": ".py",
   "mimetype": "text/x-python",
   "name": "python",
   "nbconvert_exporter": "python",
   "pygments_lexer": "ipython3",
   "version": "3.7.6"
  }
 },
 "nbformat": 4,
 "nbformat_minor": 4
}
